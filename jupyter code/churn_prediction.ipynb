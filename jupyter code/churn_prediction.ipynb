{
  "cells": [
    {
      "cell_type": "code",
      "execution_count": null,
      "metadata": {
        "id": "XngYSwmMTxOM"
      },
      "outputs": [],
      "source": [
        "# Importing Necessary Libraries\n",
        "import pandas as pd\n",
        "import numpy as np\n",
        "from sklearn.preprocessing import LabelEncoder, StandardScaler\n",
        "from sklearn.cluster import KMeans\n",
        "from sklearn.impute import SimpleImputer\n",
        "from sklearn.model_selection import train_test_split\n",
        "from sklearn.ensemble import BaggingClassifier, RandomForestClassifier\n",
        "from sklearn.linear_model import LogisticRegression\n",
        "from sklearn.svm import SVC\n",
        "from sklearn.metrics import accuracy_score, recall_score, precision_score, f1_score\n",
        "from imblearn.over_sampling import SMOTE"
      ]
    },
    {
      "cell_type": "code",
      "execution_count": null,
      "metadata": {
        "id": "EiqL-3OUTxOP"
      },
      "outputs": [],
      "source": [
        "# Reading the Dataset\n",
        "raw_data = pd.read_csv('dataset.csv')\n",
        "raw_data.dtypes"
      ]
    },
    {
      "cell_type": "code",
      "execution_count": null,
      "metadata": {},
      "outputs": [],
      "source": [
        "# Display the Dataset\n",
        "print(raw_data)"
      ]
    },
    {
      "cell_type": "code",
      "execution_count": null,
      "metadata": {
        "id": "a-D8jjmwe2mt"
      },
      "outputs": [],
      "source": [
        "# Feature Selection\n",
        "non_numeric_cols = raw_data.select_dtypes(include=['object']).columns.tolist()\n",
        "raw_data_numeric = raw_data.drop(non_numeric_cols, axis=1)"
      ]
    },
    {
      "cell_type": "code",
      "execution_count": null,
      "metadata": {
        "id": "4E0wlNjte8Jo"
      },
      "outputs": [],
      "source": [
        "# Impute Missing Values\n",
        "imp = SimpleImputer(missing_values=np.nan, strategy='mean')\n",
        "imp.fit(raw_data_numeric)\n",
        "raw_data_numeric_imputed = pd.DataFrame(imp.fit_transform(raw_data_numeric), columns=raw_data_numeric.columns)"
      ]
    },
    {
      "cell_type": "code",
      "execution_count": null,
      "metadata": {
        "id": "1CooZ1Ake9rI"
      },
      "outputs": [],
      "source": [
        "# Concatenation\n",
        "raw_data_imputed = pd.concat([raw_data[non_numeric_cols], raw_data_numeric_imputed], axis=1)\n",
        "raw_data_imputed.columns\n",
        "raw_data_imputed['Churn'].dtype"
      ]
    },
    {
      "cell_type": "code",
      "execution_count": null,
      "metadata": {
        "id": "ulTMFrZQfc0s"
      },
      "outputs": [],
      "source": [
        "# Label Encoding\n",
        "le = LabelEncoder()\n",
        "raw_data_imputed['Churn'] = le.fit_transform(raw_data_imputed['Churn'].astype(str))"
      ]
    },
    {
      "cell_type": "code",
      "execution_count": null,
      "metadata": {
        "id": "AW4hzi4Al4gu"
      },
      "outputs": [],
      "source": [
        "# Create a DataFrame\n",
        "df = pd.DataFrame(raw_data_imputed)"
      ]
    },
    {
      "cell_type": "code",
      "execution_count": null,
      "metadata": {
        "id": "A_aYlebWl7YU"
      },
      "outputs": [],
      "source": [
        "# Convert String columns to Binary Float columns\n",
        "for col in df.select_dtypes(include=\"object\"):\n",
        "    df[col] = df[col].astype(\"category\").cat.codes.astype(\"float\")\n"
      ]
    },
    {
      "cell_type": "code",
      "execution_count": null,
      "metadata": {
        "id": "Mr3irs8rp51h"
      },
      "outputs": [],
      "source": [
        "# Display Binary Dataset\n",
        "print(df)"
      ]
    },
    {
      "cell_type": "code",
      "execution_count": null,
      "metadata": {
        "id": "bu3iGvuNggZS"
      },
      "outputs": [],
      "source": [
        "# Standardization\n",
        "scaler = StandardScaler()\n",
        "X_scaled = scaler.fit_transform(df)"
      ]
    },
    {
      "cell_type": "code",
      "execution_count": null,
      "metadata": {
        "id": "6mvefA5QaROd"
      },
      "outputs": [],
      "source": [
        "# Clustering Algorithm\n",
        "kmeans = KMeans(n_clusters=3, random_state=0)\n",
        "clusters = kmeans.fit_predict(X_scaled)"
      ]
    },
    {
      "cell_type": "code",
      "execution_count": null,
      "metadata": {
        "id": "McbE6mtuZ06-"
      },
      "outputs": [],
      "source": [
        "# Add Cluster labels to the Dataset\n",
        "processed_data = df.copy()\n",
        "processed_data['cluster'] = clusters\n",
        "non_numeric_cols = raw_data.select_dtypes(include='object').columns"
      ]
    },
    {
      "cell_type": "code",
      "execution_count": null,
      "metadata": {
        "id": "UosyzI2CTxOR"
      },
      "outputs": [],
      "source": [
        "# Splitting Features and Target Variable\n",
        "X = processed_data.drop(['Churn', 'cluster'], axis=1)\n",
        "y = processed_data['Churn']\n",
        "X_train, X_test, y_train, y_test = train_test_split(X, y, test_size=0.2, random_state=0)"
      ]
    },
    {
      "cell_type": "code",
      "execution_count": null,
      "metadata": {
        "id": "ReRdFifnTxOR"
      },
      "outputs": [],
      "source": [
        "# Scaling Features\n",
        "scaler = StandardScaler()\n",
        "X_train_scaled = scaler.fit_transform(X_train)\n",
        "X_test_scaled = scaler.fit_transform(X_test)"
      ]
    },
    {
      "cell_type": "code",
      "execution_count": null,
      "metadata": {
        "id": "nxK8PNbBTxOR"
      },
      "outputs": [],
      "source": [
        "# Classification Algorithms\n",
        "lr = LogisticRegression(max_iter=1000)\n",
        "svm = SVC(kernel='linear', probability=True, random_state=0)\n",
        "rf = RandomForestClassifier(n_estimators=100, random_state=0)\n",
        "bagging = BaggingClassifier(RandomForestClassifier(n_estimators=100, random_state=0),n_estimators=10, random_state=0)\n",
        "stacking = RandomForestClassifier(n_estimators=100, random_state=0).set_params(n_jobs=-1)"
      ]
    },
    {
      "cell_type": "code",
      "execution_count": null,
      "metadata": {
        "id": "4c4WXtABTxOR"
      },
      "outputs": [],
      "source": [
        "# SMOTE oversampling\n",
        "sm = SMOTE(random_state=0)\n",
        "X_train_smote, y_train_smote = sm.fit_resample(X_train_scaled, y_train)"
      ]
    },
    {
      "cell_type": "code",
      "execution_count": null,
      "metadata": {
        "id": "fzxuRfRLTxOR"
      },
      "outputs": [],
      "source": [
        "# Train and Evaluate models\n",
        "models = [('Logistic Regression', lr),\n",
        "          ('Support Vector Machine', svm),\n",
        "          ('Random Forest', rf),\n",
        "          ('Bagging Classifier', bagging),\n",
        "          ('Stacking Classifier', stacking)]\n"
      ]
    },
    {
      "cell_type": "code",
      "execution_count": null,
      "metadata": {
        "id": "S1-a6sKDTxOR"
      },
      "outputs": [],
      "source": [
        "# Performance Metrics\n",
        "results = []\n",
        "for name, model in models:\n",
        "    model.fit(X_train_smote, y_train_smote)\n",
        "    y_pred = model.predict(X_test_scaled)\n",
        "    result = {\n",
        "        \"Model\": name,\n",
        "        \"Accuracy\": accuracy_score(y_test, y_pred),\n",
        "        \"Recall\": recall_score(y_test, y_pred),\n",
        "        \"Precision\": precision_score(y_test, y_pred),\n",
        "        \"F1-Score\": f1_score(y_test, y_pred)\n",
        "    }\n",
        "    results.append(result)\n",
        "    print(result)"
      ]
    },
    {
      "cell_type": "code",
      "execution_count": null,
      "metadata": {
        "id": "raxGCn5NTxOR"
      },
      "outputs": [],
      "source": [
        "# Finding Best Model\n",
        "best_model = max(results, key=lambda x: x[\"F1-Score\"])\n",
        "best_model_name = best_model[\"Model\"]\n"
      ]
    },
    {
      "cell_type": "code",
      "execution_count": null,
      "metadata": {
        "id": "63GPc1qtnxPm"
      },
      "outputs": [],
      "source": [
        "# Results of Churn Predictions\n",
        "total = len(processed_data)\n",
        "churn = len(processed_data[processed_data['Churn'] == 1])\n",
        "non_churn = len(processed_data[processed_data['Churn'] == 0])\n",
        "\n",
        "print(f'Total customers: {total}')\n",
        "print(f'Churn Customers: {churn}')\n",
        "print(f'Non-Churn Customers: {non_churn}')"
      ]
    }
  ],
  "metadata": {
    "colab": {
      "provenance": []
    },
    "kernelspec": {
      "display_name": "Python 3",
      "name": "python3"
    },
    "language_info": {
      "codemirror_mode": {
        "name": "ipython",
        "version": 3
      },
      "file_extension": ".py",
      "mimetype": "text/x-python",
      "name": "python",
      "nbconvert_exporter": "python",
      "pygments_lexer": "ipython3",
      "version": "3.12.2"
    }
  },
  "nbformat": 4,
  "nbformat_minor": 0
}
