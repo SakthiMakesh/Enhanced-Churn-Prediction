{
  "cells": [
    {
      "cell_type": "code",
      "execution_count": 9,
      "metadata": {
        "id": "XngYSwmMTxOM"
      },
      "outputs": [],
      "source": [
        "# Importing Necessary Libraries\n",
        "import pandas as pd\n",
        "import numpy as np\n",
        "from sklearn.preprocessing import LabelEncoder, StandardScaler\n",
        "from sklearn.cluster import KMeans\n",
        "from sklearn.impute import SimpleImputer\n",
        "from sklearn.model_selection import train_test_split\n",
        "from sklearn.ensemble import BaggingClassifier, RandomForestClassifier\n",
        "from sklearn.linear_model import LogisticRegression\n",
        "from sklearn.svm import SVC\n",
        "from sklearn.metrics import accuracy_score, recall_score, precision_score, f1_score\n",
        "from imblearn.over_sampling import SMOTE"
      ]
    },
    {
      "cell_type": "code",
      "execution_count": 10,
      "metadata": {
        "id": "EiqL-3OUTxOP"
      },
      "outputs": [
        {
          "data": {
            "text/plain": [
              "customerID           object\n",
              "gender               object\n",
              "SeniorCitizen         int64\n",
              "Partner              object\n",
              "Dependents           object\n",
              "tenure                int64\n",
              "PhoneService         object\n",
              "MultipleLines        object\n",
              "InternetService      object\n",
              "OnlineSecurity       object\n",
              "OnlineBackup         object\n",
              "DeviceProtection     object\n",
              "TechSupport          object\n",
              "StreamingTV          object\n",
              "StreamingMovies      object\n",
              "Contract             object\n",
              "PaperlessBilling     object\n",
              "PaymentMethod        object\n",
              "MonthlyCharges      float64\n",
              "TotalCharges         object\n",
              "Churn                object\n",
              "dtype: object"
            ]
          },
          "execution_count": 10,
          "metadata": {},
          "output_type": "execute_result"
        }
      ],
      "source": [
        "# Reading the Dataset\n",
        "raw_data = pd.read_csv('dataset.csv')\n",
        "raw_data.dtypes"
      ]
    },
    {
      "cell_type": "code",
      "execution_count": 11,
      "metadata": {},
      "outputs": [
        {
          "name": "stdout",
          "output_type": "stream",
          "text": [
            "      customerID  gender  SeniorCitizen Partner Dependents  tenure  \\\n",
            "0     7590-VHVEG  Female              0     Yes         No       1   \n",
            "1     5575-GNVDE    Male              0      No         No      34   \n",
            "2     3668-QPYBK    Male              0      No         No       2   \n",
            "3     7795-CFOCW    Male              0      No         No      45   \n",
            "4     9237-HQITU  Female              0      No         No       2   \n",
            "...          ...     ...            ...     ...        ...     ...   \n",
            "7038  6840-RESVB    Male              0     Yes        Yes      24   \n",
            "7039  2234-XADUH  Female              0     Yes        Yes      72   \n",
            "7040  4801-JZAZL  Female              0     Yes        Yes      11   \n",
            "7041  8361-LTMKD    Male              1     Yes         No       4   \n",
            "7042  3186-AJIEK    Male              0      No         No      66   \n",
            "\n",
            "     PhoneService     MultipleLines InternetService OnlineSecurity  ...  \\\n",
            "0              No  No phone service             DSL             No  ...   \n",
            "1             Yes                No             DSL            Yes  ...   \n",
            "2             Yes                No             DSL            Yes  ...   \n",
            "3              No  No phone service             DSL            Yes  ...   \n",
            "4             Yes                No     Fiber optic             No  ...   \n",
            "...           ...               ...             ...            ...  ...   \n",
            "7038          Yes               Yes             DSL            Yes  ...   \n",
            "7039          Yes               Yes     Fiber optic             No  ...   \n",
            "7040           No  No phone service             DSL            Yes  ...   \n",
            "7041          Yes               Yes     Fiber optic             No  ...   \n",
            "7042          Yes                No     Fiber optic            Yes  ...   \n",
            "\n",
            "     DeviceProtection TechSupport StreamingTV StreamingMovies        Contract  \\\n",
            "0                  No          No          No              No  Month-to-month   \n",
            "1                 Yes          No          No              No        One year   \n",
            "2                  No          No          No              No  Month-to-month   \n",
            "3                 Yes         Yes          No              No        One year   \n",
            "4                  No          No          No              No  Month-to-month   \n",
            "...               ...         ...         ...             ...             ...   \n",
            "7038              Yes         Yes         Yes             Yes        One year   \n",
            "7039              Yes          No         Yes             Yes        One year   \n",
            "7040               No          No          No              No  Month-to-month   \n",
            "7041               No          No          No              No  Month-to-month   \n",
            "7042              Yes         Yes         Yes             Yes        Two year   \n",
            "\n",
            "     PaperlessBilling              PaymentMethod MonthlyCharges  TotalCharges  \\\n",
            "0                 Yes           Electronic check          29.85         29.85   \n",
            "1                  No               Mailed check          56.95        1889.5   \n",
            "2                 Yes               Mailed check          53.85        108.15   \n",
            "3                  No  Bank transfer (automatic)          42.30       1840.75   \n",
            "4                 Yes           Electronic check          70.70        151.65   \n",
            "...               ...                        ...            ...           ...   \n",
            "7038              Yes               Mailed check          84.80        1990.5   \n",
            "7039              Yes    Credit card (automatic)         103.20        7362.9   \n",
            "7040              Yes           Electronic check          29.60        346.45   \n",
            "7041              Yes               Mailed check          74.40         306.6   \n",
            "7042              Yes  Bank transfer (automatic)         105.65        6844.5   \n",
            "\n",
            "     Churn  \n",
            "0       No  \n",
            "1       No  \n",
            "2      Yes  \n",
            "3       No  \n",
            "4      Yes  \n",
            "...    ...  \n",
            "7038    No  \n",
            "7039    No  \n",
            "7040    No  \n",
            "7041   Yes  \n",
            "7042    No  \n",
            "\n",
            "[7043 rows x 21 columns]\n"
          ]
        }
      ],
      "source": [
        "# Display the Dataset\n",
        "print(raw_data)"
      ]
    },
    {
      "cell_type": "code",
      "execution_count": 12,
      "metadata": {
        "id": "a-D8jjmwe2mt"
      },
      "outputs": [],
      "source": [
        "# Feature Selection\n",
        "non_numeric_cols = raw_data.select_dtypes(include=['object']).columns.tolist()\n",
        "raw_data_numeric = raw_data.drop(non_numeric_cols, axis=1)"
      ]
    },
    {
      "cell_type": "code",
      "execution_count": 13,
      "metadata": {
        "id": "4E0wlNjte8Jo"
      },
      "outputs": [],
      "source": [
        "# Impute Missing Values\n",
        "imp = SimpleImputer(missing_values=np.nan, strategy='mean')\n",
        "imp.fit(raw_data_numeric)\n",
        "raw_data_numeric_imputed = pd.DataFrame(imp.fit_transform(raw_data_numeric), columns=raw_data_numeric.columns)"
      ]
    },
    {
      "cell_type": "code",
      "execution_count": 14,
      "metadata": {
        "id": "1CooZ1Ake9rI"
      },
      "outputs": [
        {
          "data": {
            "text/plain": [
              "dtype('O')"
            ]
          },
          "execution_count": 14,
          "metadata": {},
          "output_type": "execute_result"
        }
      ],
      "source": [
        "# Concatenation\n",
        "raw_data_imputed = pd.concat([raw_data[non_numeric_cols], raw_data_numeric_imputed], axis=1)\n",
        "raw_data_imputed.columns\n",
        "raw_data_imputed['Churn'].dtype"
      ]
    },
    {
      "cell_type": "code",
      "execution_count": 15,
      "metadata": {
        "id": "ulTMFrZQfc0s"
      },
      "outputs": [],
      "source": [
        "# Label Encoding\n",
        "le = LabelEncoder()\n",
        "raw_data_imputed['Churn'] = le.fit_transform(raw_data_imputed['Churn'].astype(str))"
      ]
    },
    {
      "cell_type": "code",
      "execution_count": 16,
      "metadata": {
        "id": "AW4hzi4Al4gu"
      },
      "outputs": [],
      "source": [
        "# Create a DataFrame\n",
        "df = pd.DataFrame(raw_data_imputed)"
      ]
    },
    {
      "cell_type": "code",
      "execution_count": 17,
      "metadata": {
        "id": "A_aYlebWl7YU"
      },
      "outputs": [],
      "source": [
        "# Convert String columns to Binary Float columns\n",
        "for col in df.select_dtypes(include=\"object\"):\n",
        "    df[col] = df[col].astype(\"category\").cat.codes.astype(\"float\")\n"
      ]
    },
    {
      "cell_type": "code",
      "execution_count": 18,
      "metadata": {
        "id": "Mr3irs8rp51h"
      },
      "outputs": [
        {
          "name": "stdout",
          "output_type": "stream",
          "text": [
            "      customerID  gender  Partner  Dependents  PhoneService  MultipleLines  \\\n",
            "0         5375.0     0.0      1.0         0.0           0.0            1.0   \n",
            "1         3962.0     1.0      0.0         0.0           1.0            0.0   \n",
            "2         2564.0     1.0      0.0         0.0           1.0            0.0   \n",
            "3         5535.0     1.0      0.0         0.0           0.0            1.0   \n",
            "4         6511.0     0.0      0.0         0.0           1.0            0.0   \n",
            "...          ...     ...      ...         ...           ...            ...   \n",
            "7038      4853.0     1.0      1.0         1.0           1.0            2.0   \n",
            "7039      1525.0     0.0      1.0         1.0           1.0            2.0   \n",
            "7040      3367.0     0.0      1.0         1.0           0.0            1.0   \n",
            "7041      5934.0     1.0      1.0         0.0           1.0            2.0   \n",
            "7042      2226.0     1.0      0.0         0.0           1.0            0.0   \n",
            "\n",
            "      InternetService  OnlineSecurity  OnlineBackup  DeviceProtection  ...  \\\n",
            "0                 0.0             0.0           2.0               0.0  ...   \n",
            "1                 0.0             2.0           0.0               2.0  ...   \n",
            "2                 0.0             2.0           2.0               0.0  ...   \n",
            "3                 0.0             2.0           0.0               2.0  ...   \n",
            "4                 1.0             0.0           0.0               0.0  ...   \n",
            "...               ...             ...           ...               ...  ...   \n",
            "7038              0.0             2.0           0.0               2.0  ...   \n",
            "7039              1.0             0.0           2.0               2.0  ...   \n",
            "7040              0.0             2.0           0.0               0.0  ...   \n",
            "7041              1.0             0.0           0.0               0.0  ...   \n",
            "7042              1.0             2.0           0.0               2.0  ...   \n",
            "\n",
            "      StreamingTV  StreamingMovies  Contract  PaperlessBilling  PaymentMethod  \\\n",
            "0             0.0              0.0       0.0               1.0            2.0   \n",
            "1             0.0              0.0       1.0               0.0            3.0   \n",
            "2             0.0              0.0       0.0               1.0            3.0   \n",
            "3             0.0              0.0       1.0               0.0            0.0   \n",
            "4             0.0              0.0       0.0               1.0            2.0   \n",
            "...           ...              ...       ...               ...            ...   \n",
            "7038          2.0              2.0       1.0               1.0            3.0   \n",
            "7039          2.0              2.0       1.0               1.0            1.0   \n",
            "7040          0.0              0.0       0.0               1.0            2.0   \n",
            "7041          0.0              0.0       0.0               1.0            3.0   \n",
            "7042          2.0              2.0       2.0               1.0            0.0   \n",
            "\n",
            "      TotalCharges  Churn  SeniorCitizen  tenure  MonthlyCharges  \n",
            "0           2505.0      0            0.0     1.0           29.85  \n",
            "1           1466.0      0            0.0    34.0           56.95  \n",
            "2            157.0      1            0.0     2.0           53.85  \n",
            "3           1400.0      0            0.0    45.0           42.30  \n",
            "4            925.0      1            0.0     2.0           70.70  \n",
            "...            ...    ...            ...     ...             ...  \n",
            "7038        1597.0      0            0.0    24.0           84.80  \n",
            "7039        5698.0      0            0.0    72.0          103.20  \n",
            "7040        2994.0      0            0.0    11.0           29.60  \n",
            "7041        2660.0      1            1.0     4.0           74.40  \n",
            "7042        5407.0      0            0.0    66.0          105.65  \n",
            "\n",
            "[7043 rows x 21 columns]\n"
          ]
        }
      ],
      "source": [
        "# Display Binary Dataset\n",
        "print(df)"
      ]
    },
    {
      "cell_type": "code",
      "execution_count": 19,
      "metadata": {
        "id": "bu3iGvuNggZS"
      },
      "outputs": [],
      "source": [
        "# Standardization\n",
        "scaler = StandardScaler()\n",
        "X_scaled = scaler.fit_transform(df)"
      ]
    },
    {
      "cell_type": "code",
      "execution_count": 20,
      "metadata": {
        "id": "6mvefA5QaROd"
      },
      "outputs": [],
      "source": [
        "# Clustering Algorithm\n",
        "kmeans = KMeans(n_clusters=3, random_state=0)\n",
        "clusters = kmeans.fit_predict(X_scaled)"
      ]
    },
    {
      "cell_type": "code",
      "execution_count": 21,
      "metadata": {
        "id": "McbE6mtuZ06-"
      },
      "outputs": [],
      "source": [
        "# Add Cluster labels to the Dataset\n",
        "processed_data = df.copy()\n",
        "processed_data['cluster'] = clusters\n",
        "non_numeric_cols = raw_data.select_dtypes(include='object').columns"
      ]
    },
    {
      "cell_type": "code",
      "execution_count": 22,
      "metadata": {
        "id": "UosyzI2CTxOR"
      },
      "outputs": [],
      "source": [
        "# Splitting Features and Target Variable\n",
        "X = processed_data.drop(['Churn', 'cluster'], axis=1)\n",
        "y = processed_data['Churn']\n",
        "X_train, X_test, y_train, y_test = train_test_split(X, y, test_size=0.2, random_state=0)"
      ]
    },
    {
      "cell_type": "code",
      "execution_count": 23,
      "metadata": {
        "id": "ReRdFifnTxOR"
      },
      "outputs": [],
      "source": [
        "# Scaling Features\n",
        "scaler = StandardScaler()\n",
        "X_train_scaled = scaler.fit_transform(X_train)\n",
        "X_test_scaled = scaler.fit_transform(X_test)"
      ]
    },
    {
      "cell_type": "code",
      "execution_count": 24,
      "metadata": {
        "id": "nxK8PNbBTxOR"
      },
      "outputs": [],
      "source": [
        "# Classification Algorithms\n",
        "lr = LogisticRegression(max_iter=1000)\n",
        "svm = SVC(kernel='linear', probability=True, random_state=0)\n",
        "rf = RandomForestClassifier(n_estimators=100, random_state=0)\n",
        "bagging = BaggingClassifier(RandomForestClassifier(n_estimators=100, random_state=0),n_estimators=10, random_state=0)\n",
        "stacking = RandomForestClassifier(n_estimators=100, random_state=0).set_params(n_jobs=-1)"
      ]
    },
    {
      "cell_type": "code",
      "execution_count": 25,
      "metadata": {
        "id": "4c4WXtABTxOR"
      },
      "outputs": [],
      "source": [
        "# SMOTE oversampling\n",
        "sm = SMOTE(random_state=0)\n",
        "X_train_smote, y_train_smote = sm.fit_resample(X_train_scaled, y_train)"
      ]
    },
    {
      "cell_type": "code",
      "execution_count": 26,
      "metadata": {
        "id": "fzxuRfRLTxOR"
      },
      "outputs": [],
      "source": [
        "# Train and Evaluate models\n",
        "models = [('Logistic Regression', lr),\n",
        "          ('Support Vector Machine', svm),\n",
        "          ('Random Forest', rf),\n",
        "          ('Bagging Classifier', bagging),\n",
        "          ('Stacking Classifier', stacking)]\n"
      ]
    },
    {
      "cell_type": "code",
      "execution_count": 27,
      "metadata": {
        "id": "S1-a6sKDTxOR"
      },
      "outputs": [
        {
          "name": "stdout",
          "output_type": "stream",
          "text": [
            "{'Model': 'Logistic Regression', 'Accuracy': 0.7423704755145494, 'Recall': 0.779891304347826, 'Precision': 0.5043936731107206, 'F1-Score': 0.6125933831376734}\n",
            "{'Model': 'Support Vector Machine', 'Accuracy': 0.7331440738112136, 'Recall': 0.7961956521739131, 'Precision': 0.49326599326599324, 'F1-Score': 0.6091476091476091}\n",
            "{'Model': 'Random Forest', 'Accuracy': 0.6323633782824698, 'Recall': 0.8342391304347826, 'Precision': 0.4018324607329843, 'F1-Score': 0.5424028268551236}\n",
            "{'Model': 'Bagging Classifier', 'Accuracy': 0.6770759403832506, 'Recall': 0.8125, 'Precision': 0.4364963503649635, 'F1-Score': 0.5679012345679012}\n",
            "{'Model': 'Stacking Classifier', 'Accuracy': 0.6323633782824698, 'Recall': 0.8342391304347826, 'Precision': 0.4018324607329843, 'F1-Score': 0.5424028268551236}\n"
          ]
        }
      ],
      "source": [
        "# Performance Metrics\n",
        "results = []\n",
        "for name, model in models:\n",
        "    model.fit(X_train_smote, y_train_smote)\n",
        "    y_pred = model.predict(X_test_scaled)\n",
        "    result = {\n",
        "        \"Model\": name,\n",
        "        \"Accuracy\": accuracy_score(y_test, y_pred),\n",
        "        \"Recall\": recall_score(y_test, y_pred),\n",
        "        \"Precision\": precision_score(y_test, y_pred),\n",
        "        \"F1-Score\": f1_score(y_test, y_pred)\n",
        "    }\n",
        "    results.append(result)\n",
        "    print(result)"
      ]
    },
    {
      "cell_type": "code",
      "execution_count": 28,
      "metadata": {
        "id": "raxGCn5NTxOR"
      },
      "outputs": [],
      "source": [
        "# Finding Best Model\n",
        "best_model = max(results, key=lambda x: x[\"F1-Score\"])\n",
        "best_model_name = best_model[\"Model\"]\n"
      ]
    },
    {
      "cell_type": "code",
      "execution_count": 29,
      "metadata": {
        "id": "63GPc1qtnxPm"
      },
      "outputs": [
        {
          "name": "stdout",
          "output_type": "stream",
          "text": [
            "Total customers: 7043\n",
            "Churn Customers: 1869\n",
            "Non-Churn Customers: 5174\n"
          ]
        }
      ],
      "source": [
        "# Results of Churn Predictions\n",
        "total = len(processed_data)\n",
        "churn = len(processed_data[processed_data['Churn'] == 1])\n",
        "non_churn = len(processed_data[processed_data['Churn'] == 0])\n",
        "\n",
        "print(f'Total customers: {total}')\n",
        "print(f'Churn Customers: {churn}')\n",
        "print(f'Non-Churn Customers: {non_churn}')"
      ]
    }
  ],
  "metadata": {
    "colab": {
      "provenance": []
    },
    "kernelspec": {
      "display_name": "Python 3",
      "name": "python3"
    },
    "language_info": {
      "codemirror_mode": {
        "name": "ipython",
        "version": 3
      },
      "file_extension": ".py",
      "mimetype": "text/x-python",
      "name": "python",
      "nbconvert_exporter": "python",
      "pygments_lexer": "ipython3",
      "version": "3.12.2"
    }
  },
  "nbformat": 4,
  "nbformat_minor": 0
}
